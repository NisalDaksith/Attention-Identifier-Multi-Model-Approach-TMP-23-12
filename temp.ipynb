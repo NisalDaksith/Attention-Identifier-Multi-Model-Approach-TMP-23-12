{
 "cells": [
  {
   "cell_type": "code",
   "execution_count": 6,
   "metadata": {},
   "outputs": [
    {
     "name": "stdout",
     "output_type": "stream",
     "text": [
      "2023-12-15 02:44:00\n"
     ]
    }
   ],
   "source": [
    "\n",
    "from datetime import datetime\n",
    "\n",
    "current_time = datetime.now().strftime(\"%Y-%m-%d %H:%M:%S\")\n",
    "\n",
    "# make seconds to 0\n",
    "current_time = current_time[:-2] + \"00\"\n",
    "print(current_time)"
   ]
  },
  {
   "cell_type": "code",
   "execution_count": 3,
   "metadata": {},
   "outputs": [],
   "source": [
    "import pandas as pd\n",
    "attention_df = pd.read_csv(\"attention_status.csv\")\n",
    "emotion_df = pd.read_csv(\"emotions.csv\")\n",
    "noise_df = pd.read_csv(\"Noice_results.csv\")\n",
    "key_df = pd.read_csv(\"key_predictions.csv\")\n",
    "\n",
    "# noise_df Time column to datetime\n",
    "noise_df['Time'] = pd.to_datetime(noise_df['Time'], format='%Y-%m-%d %H-%M-%S')"
   ]
  }
 ],
 "metadata": {
  "kernelspec": {
   "display_name": "flask",
   "language": "python",
   "name": "python3"
  },
  "language_info": {
   "codemirror_mode": {
    "name": "ipython",
    "version": 3
   },
   "file_extension": ".py",
   "mimetype": "text/x-python",
   "name": "python",
   "nbconvert_exporter": "python",
   "pygments_lexer": "ipython3",
   "version": "3.10.5"
  }
 },
 "nbformat": 4,
 "nbformat_minor": 2
}
